{
 "cells": [
  {
   "cell_type": "code",
   "execution_count": null,
   "metadata": {
    "scrolled": true
   },
   "outputs": [
    {
     "name": "stdout",
     "output_type": "stream",
     "text": [
      "Layer: 1\n",
      "Input size: 64\n"
     ]
    }
   ],
   "source": [
    "#To determine convolution sizes\n",
    "import numpy as np \n",
    "i = 1\n",
    "while True:\n",
    "    print('Layer:', i)\n",
    "    def conv(data_in, ksize, kstride, padding):\n",
    "        return (data_in + 2*padding - ksize)/kstride + 1 \n",
    "    data_in = int(input(\"Input size: \"))\n",
    "    ksize = int(input(\"Kernel size: \"))\n",
    "    kstride = int(input(\"Kernel stride: \"))\n",
    "    padding = int(input(\"Padding: \"))\n",
    "    out = conv(data_in, ksize, kstride, padding)\n",
    "    print('Output size: ', out)\n",
    "    i+=1"
   ]
  },
  {
   "cell_type": "code",
   "execution_count": null,
   "metadata": {},
   "outputs": [
    {
     "name": "stdout",
     "output_type": "stream",
     "text": [
      "Layer: 1\n",
      "Input size: 2\n",
      "Kernel size: 2\n",
      "Kernel stride: 1\n",
      "Padding: 0\n",
      "Output size:  3\n",
      "Layer: 2\n",
      "Input size: 2\n",
      "Kernel size: 2\n",
      "Kernel stride: 1\n",
      "Padding: 1\n",
      "Output size:  1\n",
      "Layer: 3\n",
      "Input size: 2\n",
      "Kernel size: 2\n",
      "Kernel stride: 3\n",
      "Padding: 1\n",
      "Output size:  3\n",
      "Layer: 4\n"
     ]
    }
   ],
   "source": [
    "#To determine convolutional transpose sizes \n",
    "import numpy as np\n",
    "i = 1\n",
    "while True:\n",
    "    print('Layer:', i)\n",
    "    def convTranspose(data_in, ksize, kstride, padding):\n",
    "        return (data_in-1)*kstride - 2*padding + ksize \n",
    "    data_in = int(input(\"Input size: \"))\n",
    "    ksize = int(input(\"Kernel size: \"))\n",
    "    kstride = int(input(\"Kernel stride: \"))\n",
    "    padding = int(input(\"Padding: \"))\n",
    "    out = convTranspose(data_in, ksize, kstride, padding)\n",
    "    print('Output size: ', out)\n",
    "    i+=1"
   ]
  },
  {
   "cell_type": "code",
   "execution_count": null,
   "metadata": {},
   "outputs": [],
   "source": []
  }
 ],
 "metadata": {
  "kernelspec": {
   "display_name": "Python 3",
   "language": "python",
   "name": "python3"
  },
  "language_info": {
   "codemirror_mode": {
    "name": "ipython",
    "version": 3
   },
   "file_extension": ".py",
   "mimetype": "text/x-python",
   "name": "python",
   "nbconvert_exporter": "python",
   "pygments_lexer": "ipython3",
   "version": "3.7.1"
  }
 },
 "nbformat": 4,
 "nbformat_minor": 2
}
